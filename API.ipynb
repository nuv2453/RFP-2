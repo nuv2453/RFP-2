{
 "cells": [
  {
   "cell_type": "code",
   "execution_count": 3,
   "metadata": {},
   "outputs": [
    {
     "name": "stdout",
     "output_type": "stream",
     "text": [
      "You'll Be Gone  -  YonKaGor\n",
      "This Comes From Inside  -  The Living Tombstone\n",
      "Uwa!! So Temperate♫  -  Toby Fox\n",
      "Megalo Strike Back  -  NyxTheShield\n",
      "Baby Hotline  -  Jack Stauber's Micropop\n",
      "Spider-Man 2 pizza theme  -  Little Jacob\n",
      "Dragonhearted  -  Tryhardninja\n",
      "Run Run!  -  Jorge Aguilar II\n",
      "The 7 Seas  -  F-777\n",
      "Radiance  -  Christopher Larkin\n",
      "Ghost Fight  -  Toby Fox\n",
      "Plantera (from \"Terraria\")  -  Re-Logic\n",
      "Innocence Glitched (Basement)  -  Mudeth\n",
      "Boom Boom Boom Boom Boom Boom Boom Boom Boom Boom Boom Boom Boom  -  Dan Bull\n",
      "Roll or Die  -  Rockit Music\n",
      "Sonic Heroes: Main Theme of Sonic Heroes  -  Crush 40\n",
      "Reality Check Through The Skull (\"MEGALOVANIA\" and \"Song That Might Play When You Fight Sans\" from \"Undertale\")  -  DM DOKURO\n",
      "Underground  -  Re-Logic\n",
      "Home  -  Toby Fox\n",
      "Red Flags (feat. Montaigne)  -  Tom Cardy\n"
     ]
    }
   ],
   "source": [
    "import spotipy\n",
    "from spotipy.oauth2 import SpotifyClientCredentials\n",
    "\n",
    "# Set up your Spotify API credentials\n",
    "client_id = '1a9330ccb98b4699ad9a95b24891f7e8'\n",
    "client_secret = '7db2d74c5a2747a5b5f12262adc15af2'\n",
    "\n",
    "# Initialize Spotify client with client credentials\n",
    "client_credentials_manager = SpotifyClientCredentials(client_id=client_id, client_secret=client_secret)\n",
    "sp = spotipy.Spotify(client_credentials_manager=client_credentials_manager)\n",
    "\n",
    "# Get recommendations based on seed tracks, artists, or genres\n",
    "def get_recommendations(seed_tracks=None, seed_artists=None, seed_genres=None, limit=20):\n",
    "    recommendations = sp.recommendations(seed_tracks=seed_tracks, seed_artists=seed_artists, seed_genres=seed_genres, limit=limit)\n",
    "    return recommendations['tracks']\n",
    "\n",
    "# Example usage:\n",
    "# Replace 'your_track_id' with an actual Spotify track ID\n",
    "track_id = '1J03Vp93ybKIxfzYI4YJtL'\n",
    "recommendations = get_recommendations(seed_tracks=[track_id])\n",
    "\n",
    "# Print out recommended track names and artists\n",
    "for track in recommendations:\n",
    "    print(track['name'], ' - ', track['artists'][0]['name'])"
   ]
  },
  {
   "cell_type": "code",
   "execution_count": null,
   "metadata": {},
   "outputs": [],
   "source": []
  }
 ],
 "metadata": {
  "kernelspec": {
   "display_name": "Python 3",
   "language": "python",
   "name": "python3"
  },
  "language_info": {
   "codemirror_mode": {
    "name": "ipython",
    "version": 3
   },
   "file_extension": ".py",
   "mimetype": "text/x-python",
   "name": "python",
   "nbconvert_exporter": "python",
   "pygments_lexer": "ipython3",
   "version": "3.11.8"
  }
 },
 "nbformat": 4,
 "nbformat_minor": 2
}
