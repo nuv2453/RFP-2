{
 "cells": [
  {
   "cell_type": "code",
   "execution_count": 3,
   "metadata": {},
   "outputs": [
    {
     "name": "stdout",
     "output_type": "stream",
     "text": [
      "Pokémon®  -  Video Games Live\n",
      "Field of Hopes and Dreams  -  Toby Fox\n",
      "An Enigmatic Encounter  -  esquii\n",
      "Caramelldansen  -  Caramella Girls\n",
      "Overwrite  -  NyxTheShield\n",
      "Last Goodbye  -  Toby Fox\n",
      "Fall 'N' Roll  -  Jukio Kallio\n",
      "Boom Boom Boom Boom Boom Boom Boom Boom Boom Boom Boom Boom Boom  -  Dan Bull\n",
      "Into The Light  -  VGR\n",
      "Spider-Man 2 pizza theme  -  Little Jacob\n",
      "Always Running  -  AJ Dispirito\n",
      "Bad Piggies Theme  -  Ilmari Hakkola\n",
      "Spooky, Scary Skeletons - Undead Tombstone Remix  -  Andrew Gold\n",
      "Theme from The Amazing Digital Circus  -  Gooseworx\n",
      "The Race Around the World  -  Waterflame\n",
      "Snowdin Town  -  Toby Fox\n",
      "Undertale - Spider Dance - Shirobon Remix  -  Shirobon\n",
      "Brothers in Arms  -  Dagames\n",
      "The World Revolving  -  RetroSpecter\n",
      "Final Fall  -  Jukio Kallio\n"
     ]
    }
   ],
   "source": [
    "import spotipy\n",
    "from spotipy.oauth2 import SpotifyClientCredentials\n",
    "\n",
    "# Set up your Spotify API credentials\n",
    "client_id = '1a9330ccb98b4699ad9a95b24891f7e8'\n",
    "client_secret = '7db2d74c5a2747a5b5f12262adc15af2'\n",
    "\n",
    "# Initialize Spotify client with client credentials\n",
    "client_credentials_manager = SpotifyClientCredentials(client_id=client_id, client_secret=client_secret)\n",
    "sp = spotipy.Spotify(client_credentials_manager=client_credentials_manager)\n",
    "\n",
    "# Get recommendations based on seed tracks, artists, or genres\n",
    "def get_recommendations(seed_tracks=None, seed_artists=None, seed_genres=None, limit=20):\n",
    "    recommendations = sp.recommendations(seed_tracks=seed_tracks, seed_artists=seed_artists, seed_genres=seed_genres, limit=limit)\n",
    "    return recommendations['tracks']\n",
    "\n",
    "# Example usage:\n",
    "# Replace 'your_track_id' with an actual Spotify track ID\n",
    "track_id = '1J03Vp93ybKIxfzYI4YJtL'\n",
    "recommendations = get_recommendations(seed_tracks=[track_id])\n",
    "\n",
    "# Print out recommended track names and artists\n",
    "for track in recommendations:\n",
    "    print(track['name'], ' - ', track['artists'][0]['name'])"
   ]
  }
 ],
 "metadata": {
  "kernelspec": {
   "display_name": "Python 3",
   "language": "python",
   "name": "python3"
  },
  "language_info": {
   "codemirror_mode": {
    "name": "ipython",
    "version": 3
   },
   "file_extension": ".py",
   "mimetype": "text/x-python",
   "name": "python",
   "nbconvert_exporter": "python",
   "pygments_lexer": "ipython3",
   "version": "3.11.8"
  }
 },
 "nbformat": 4,
 "nbformat_minor": 2
}
