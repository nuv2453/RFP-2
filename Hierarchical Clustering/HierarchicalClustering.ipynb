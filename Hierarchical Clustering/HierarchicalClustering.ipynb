{
 "cells": [
  {
   "cell_type": "code",
   "execution_count": 7,
   "id": "de333f93",
   "metadata": {},
   "outputs": [],
   "source": [
    "import pandas as pd\n",
    "import seaborn as sns\n",
    "import json\n",
    "from sklearn.cluster import AgglomerativeClustering"
   ]
  },
  {
   "cell_type": "code",
   "execution_count": 2,
   "id": "540fa973",
   "metadata": {},
   "outputs": [],
   "source": [
    "cid = \"85adddf24b3e499fbef6959a381ba39a\"\n",
    "secret = \"09ee60e23780455691f3b0ad565fc8ef\""
   ]
  },
  {
   "cell_type": "code",
   "execution_count": 3,
   "id": "fc627371",
   "metadata": {},
   "outputs": [],
   "source": [
    "with open('songs_0-999.json', 'r') as f:\n",
    "    # Load the JSON data\n",
    "    song_data = json.load(f)"
   ]
  },
  {
   "cell_type": "code",
   "execution_count": 4,
   "id": "e72be57a",
   "metadata": {},
   "outputs": [],
   "source": [
    "with open('albums_0-999.json', 'r') as f:\n",
    "    # Load the JSON data\n",
    "    album_data = json.load(f)"
   ]
  },
  {
   "cell_type": "code",
   "execution_count": 5,
   "id": "a0f80140",
   "metadata": {},
   "outputs": [],
   "source": [
    "with open('mpd.slice.0-999.json', 'r') as f:\n",
    "    # Load the JSON data\n",
    "    playlist_data = json.load(f)"
   ]
  },
  {
   "cell_type": "code",
   "execution_count": 6,
   "id": "8a6c8efa",
   "metadata": {},
   "outputs": [],
   "source": [
    "with open('artists_0-999.json', 'r') as f:\n",
    "    # Load the JSON data\n",
    "    artist_data = json.load(f)"
   ]
  },
  {
   "cell_type": "code",
   "execution_count": null,
   "id": "ff4efa9b",
   "metadata": {},
   "outputs": [],
   "source": []
  },
  {
   "cell_type": "code",
   "execution_count": null,
   "id": "a9ded8f4",
   "metadata": {},
   "outputs": [],
   "source": [
    "playlist_data['playlists'][1]"
   ]
  },
  {
   "cell_type": "code",
   "execution_count": null,
   "id": "40d847d8",
   "metadata": {},
   "outputs": [],
   "source": [
    "album_data['1kCHru7uhxBUdzkm4gzRQc']['popularity']"
   ]
  },
  {
   "cell_type": "code",
   "execution_count": null,
   "id": "c7b47956",
   "metadata": {},
   "outputs": [],
   "source": [
    "artist_data['3cR4rhS2hBWqI7rJEBacvN']"
   ]
  },
  {
   "cell_type": "code",
   "execution_count": null,
   "id": "b0e625da",
   "metadata": {},
   "outputs": [],
   "source": [
    "for i in range(1,10):\n",
    "    playlist = playlist_data['playlists'][i]\n",
    "    for track in playlist['tracks']:\n",
    "        track_uri = track['track_uri'].split(\":\")[2]\n",
    "        artist_uri = track['artist_uri'].split(\":\")[2]\n",
    "        album_uri = track['album_uri'].split(\":\")[2]\n",
    "        \n",
    "        artist = {}\n",
    "        artist_data.keys()\n",
    "        if artist_data.keys().index(artist_uri)\n",
    "            artist = artist_data[artist_uri]\n",
    "        \n",
    "        song = song_data[track_uri]\n",
    "        \n",
    "        album = album_data[album_uri]"
   ]
  }
 ],
 "metadata": {
  "kernelspec": {
   "display_name": "Python 3 (ipykernel)",
   "language": "python",
   "name": "python3"
  },
  "language_info": {
   "codemirror_mode": {
    "name": "ipython",
    "version": 3
   },
   "file_extension": ".py",
   "mimetype": "text/x-python",
   "name": "python",
   "nbconvert_exporter": "python",
   "pygments_lexer": "ipython3",
   "version": "3.9.13"
  }
 },
 "nbformat": 4,
 "nbformat_minor": 5
}
