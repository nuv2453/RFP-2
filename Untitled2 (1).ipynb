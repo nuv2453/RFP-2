{
 "cells": [
  {
   "cell_type": "code",
   "execution_count": null,
   "id": "79d897d8",
   "metadata": {},
   "outputs": [],
   "source": [
    "import json\n",
    "import numpy as np\n",
    "from sklearn.cluster import MiniBatchKMeans\n",
    "import matplotlib.pyplot as plt\n",
    "\n",
    "with open('movies.json', 'r') as file:\n",
    "    data = json.load(file)\n",
    "\n",
    "\n",
    "features = []\n",
    "for item in data:\n",
    "    \n",
    "    features.append([item['feature1'], item['feature2'], ...])  # Adjust feature names accordingly\n",
    "\n",
    "X = np.array(features)\n",
    "\n",
    "n_clusters = 5  # You can adjust the number of clusters as per your requirement\n",
    "batch_size = 100\n",
    "kmeans = MiniBatchKMeans(n_clusters=n_clusters, batch_size=batch_size, random_state=42)\n",
    "kmeans.fit(X)\n",
    "\n",
    "cluster_centers = kmeans.cluster_centers_\n",
    "labels = kmeans.labels_\n",
    "\n",
    "\n",
    "plt.scatter(X[:, 0], X[:, 1], c=labels, cmap='viridis')\n",
    "plt.scatter(cluster_centers[:, 0], cluster_centers[:, 1], marker='x', color='red', s=100)\n",
    "plt.title('Mini-batch K-means Clustering')\n",
    "plt.xlabel('Feature 1')\n",
    "plt.ylabel('Feature 2')\n",
    "plt.show()\n",
    "\n"
   ]
  }
 ],
 "metadata": {
  "kernelspec": {
   "display_name": "Python 3 (ipykernel)",
   "language": "python",
   "name": "python3"
  },
  "language_info": {
   "codemirror_mode": {
    "name": "ipython",
    "version": 3
   },
   "file_extension": ".py",
   "mimetype": "text/x-python",
   "name": "python",
   "nbconvert_exporter": "python",
   "pygments_lexer": "ipython3",
   "version": "3.11.4"
  }
 },
 "nbformat": 4,
 "nbformat_minor": 5
}
